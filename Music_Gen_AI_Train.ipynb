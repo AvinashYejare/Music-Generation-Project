{
 "cells": [
  {
   "cell_type": "code",
   "execution_count": 2,
   "metadata": {
    "id": "T-B-9mT_dkDw"
   },
   "outputs": [
    {
     "name": "stdout",
     "output_type": "stream",
     "text": [
      "cpu\n"
     ]
    }
   ],
   "source": [
    "from music21 import *\n",
    "import os \n",
    "import numpy as np\n",
    "import matplotlib.pyplot as plt\n",
    "import matplotlib.pyplot as plt\n",
    "import torch\n",
    "from torch import tensor\n",
    "import torch.nn as nn\n",
    "import torch.optim as optim\n",
    "import tensorflow as tf\n",
    "import torch.nn.functional as F\n",
    "import math\n",
    "device = torch.device(\"cuda:0\" if torch.cuda.is_available() else \"cpu\")\n",
    "print(device)"
   ]
  },
  {
   "cell_type": "code",
   "execution_count": 1,
   "metadata": {},
   "outputs": [
    {
     "name": "stdout",
     "output_type": "stream",
     "text": [
      "2.3.0\n"
     ]
    }
   ],
   "source": [
    "#import torch\n",
    "#print(torch.__version__)"
   ]
  },
  {
   "cell_type": "code",
   "execution_count": null,
   "metadata": {},
   "outputs": [],
   "source": [
    "#!pip install music21\n",
    "#import tensorflow as tf\n"
   ]
  },
  {
   "cell_type": "code",
   "execution_count": null,
   "metadata": {},
   "outputs": [],
   "source": [
    "#!pip install torch torchvision\n"
   ]
  },
  {
   "cell_type": "code",
   "execution_count": 3,
   "metadata": {},
   "outputs": [],
   "source": [
    "import pandas as pd\n",
    "from ast import literal_eval\n",
    "\n",
    "notes_df = pd.read_csv ('Dataset/notes.csv')\n",
    "train_df = pd.read_csv ('Dataset/trainset.csv')\n",
    "validation_df = pd.read_csv ('Dataset/validationset.csv')\n",
    "\n",
    "data_train = train_df[['x_tr','future']].to_numpy()\n",
    "data_validation = validation_df[['x_val','future']].to_numpy()\n",
    "\n",
    "x_tr_string = data_train[:,0]\n",
    "y_tr_string = data_train[:,1]\n",
    "x_tr = []\n",
    "y_tr = []\n",
    "for i in x_tr_string:\n",
    "\n",
    "    b = \"[]\\n\"\n",
    "    for char in b:\n",
    "        i = i.replace(char, \"\")\n",
    "    input_x_tr = [int(j) for j in i.split()]\n",
    "    x_tr.append(input_x_tr)\n",
    "\n",
    "for i in y_tr_string:\n",
    "\n",
    "    b = \"[]\\n\"\n",
    "    for char in b:\n",
    "        i = i.replace(char, \"\")\n",
    "    input_y_tr = [int(j) for j in i.split()]\n",
    "    y_tr.append(input_y_tr)\n",
    "x_tr = np.array(x_tr)\n",
    "y_tr = np.array(y_tr)\n",
    "    \n",
    "# print(x_tr.shape,y_tr.shape)\n",
    "\n",
    "x_val_string = data_validation[:,0]\n",
    "y_val_string = data_validation[:,1]\n",
    "x_val = []\n",
    "y_val = []\n",
    "for i in x_val_string:\n",
    "\n",
    "    b = \"[]\\n\"\n",
    "    for char in b:\n",
    "        i = i.replace(char, \"\")\n",
    "    input_x_val = [int(j) for j in i.split()]\n",
    "    x_val.append(input_x_val)\n",
    "\n",
    "for i in y_val_string:\n",
    "\n",
    "    b = \"[]\\n\"\n",
    "    for char in b:\n",
    "        i = i.replace(char, \"\")\n",
    "    input_y_val = [int(j) for j in i.split()]\n",
    "    y_val.append(input_y_val)\n",
    "x_val = np.array(x_val)\n",
    "y_val = np.array(y_val)\n",
    "\n",
    "# print(x_val.shape,y_val.shape)\n",
    "\n",
    "notes_ = notes_df.to_numpy()[:,1]\n",
    "unique_notes_reverse = dict(enumerate(notes_.flatten(), 1))\n",
    "unique_notes = {value : key for (key, value) in unique_notes_reverse.items()}\n"
   ]
  },
  {
   "cell_type": "code",
   "execution_count": 4,
   "metadata": {
    "id": "YIqpdgrYzPe-"
   },
   "outputs": [],
   "source": [
    "from MusicDataset import *\n",
    "batch_size = 8\n",
    "train_set = MusicDataset(x_tr,y_tr)\n",
    "trainloader = torch.utils.data.DataLoader(train_set, batch_size=batch_size,\n",
    "                                         shuffle=False, num_workers=2)"
   ]
  },
  {
   "cell_type": "code",
   "execution_count": 5,
   "metadata": {
    "id": "rn3ZuUPPT38F"
   },
   "outputs": [],
   "source": [
    "val_set = MusicDataset(x_val,y_val)\n",
    "validationloader = torch.utils.data.DataLoader(val_set, batch_size=batch_size,\n",
    "                                         shuffle=False, num_workers=2)"
   ]
  },
  {
   "cell_type": "markdown",
   "metadata": {
    "id": "0bxVZde_utFh"
   },
   "source": [
    "**DataLoader**"
   ]
  },
  {
   "cell_type": "markdown",
   "metadata": {
    "id": "NnaW5q-HtI4E"
   },
   "source": [
    "**For Wavenet Model (Ignore for now)**"
   ]
  },
  {
   "cell_type": "code",
   "execution_count": 6,
   "metadata": {
    "id": "36aRUJG6Fx_p"
   },
   "outputs": [
    {
     "data": {
      "text/plain": [
       "Sequence(\n",
       "  (embedding): Embedding(173, 100)\n",
       "  (lstm): LSTM(100, 256, num_layers=3, batch_first=True)\n",
       "  (linear1): Linear(in_features=256, out_features=128, bias=True)\n",
       "  (relu): ReLU()\n",
       "  (linear2): Linear(in_features=128, out_features=128, bias=True)\n",
       "  (softmax): Softmax(dim=None)\n",
       "  (linear3): Linear(in_features=128, out_features=173, bias=True)\n",
       "  (dropout): Dropout(p=0.2, inplace=False)\n",
       ")"
      ]
     },
     "execution_count": 6,
     "metadata": {},
     "output_type": "execute_result"
    }
   ],
   "source": [
    "from Models import Wavenet,LSTM\n",
    "# Net = Wavenet.Wavenet(len(unique_notes),blocks=4,layers = 2)\n",
    "Net = LSTM.Sequence(len(unique_notes),32)\n",
    "Net.to(device)"
   ]
  },
  {
   "cell_type": "markdown",
   "metadata": {
    "id": "RARksamCtA7X"
   },
   "source": [
    "**Checking the model**"
   ]
  },
  {
   "cell_type": "code",
   "execution_count": 7,
   "metadata": {
    "id": "X01XYRS83ByK"
   },
   "outputs": [],
   "source": [
    "import torch.optim as optim\n",
    "criterion = nn.CrossEntropyLoss()\n",
    "optimizer = torch.optim.Adam(Net.parameters(), lr=0.001, betas=(0.9, 0.999), eps=1e-08, weight_decay=0, amsgrad=False)"
   ]
  },
  {
   "cell_type": "markdown",
   "metadata": {
    "id": "0-cyi3j7tSG3"
   },
   "source": [
    "**Use the line below when you want to change learning parameters in between**"
   ]
  },
  {
   "cell_type": "code",
   "execution_count": 8,
   "metadata": {},
   "outputs": [
    {
     "name": "stdout",
     "output_type": "stream",
     "text": [
      " trained_model_cache\\14_05_2024_10_20\n"
     ]
    }
   ],
   "source": [
    "import time , sys\n",
    "baseDir = ''\n",
    "expDir = os.path.join(baseDir, 'trained_model_cache', time.strftime(\"%d_%m_%Y_%H_%M\"))\n",
    "lossDir = os.path.join(expDir, 'loss')\n",
    "os.makedirs(expDir, exist_ok=True)\n",
    "os.makedirs(lossDir, exist_ok=True)\n",
    "print(baseDir,expDir)"
   ]
  },
  {
   "cell_type": "code",
   "execution_count": 9,
   "metadata": {},
   "outputs": [],
   "source": [
    "loss_history = []\n",
    "best_val_acc = 0\n",
    "training_mode_list = [\"Next_Predict_Mode\",\"Future_Predict_Mode\"]\n",
    "training_mode = \"Next_Predict_Mode\"\n",
    "# training_mode = \"Future_Predict_Mode\"\n",
    "future_preds = 5"
   ]
  },
  {
   "cell_type": "code",
   "execution_count": 11,
   "metadata": {
    "id": "45TGOH7G1mvF"
   },
   "outputs": [
    {
     "name": "stdout",
     "output_type": "stream",
     "text": [
      "[1,   300] loss: 4.883\n",
      "[1,   600] loss: 4.789\n",
      "[1,   900] loss: 4.774\n",
      "[1,  1200] loss: 4.758\n",
      "[1,  1500] loss: 4.769\n",
      "[1,  1800] loss: 4.755\n",
      "[1,  2100] loss: 4.764\n",
      "[1,  2400] loss: 4.796\n",
      "[1,  2700] loss: 4.774\n",
      "[1,  3000] loss: 4.740\n",
      "[1,  3300] loss: 4.736\n",
      "[1,  3600] loss: 4.747\n",
      "[1,  3900] loss: 4.716\n",
      "[1,  4200] loss: 4.759\n",
      "[1,  4500] loss: 4.746\n",
      "[1,  4800] loss: 4.756\n",
      "[1,  5100] loss: 4.646\n",
      "[1,  5400] loss: 4.615\n",
      "[1,  5700] loss: 4.583\n",
      "[1,  6000] loss: 4.610\n",
      "[1,  6300] loss: 4.627\n",
      "[1,  6600] loss: 4.601\n",
      "[1,  6900] loss: 4.589\n",
      "Training Time for Epoch :0 \n",
      " 443.97755599999994 seconds\n",
      "\n",
      "Training Accuracy : \n",
      " correct predictions  : 1236 \n",
      " total predictions : 56095 \n",
      " Training Accuracy : 2.2034049380515195 \n",
      " ------------------------\n",
      "\n",
      "Validation Time for Epoch :0 \n",
      " 39.774850000000015 seconds\n",
      "\n",
      "Validation Accuracy : \n",
      " correct predictions  : 511 \n",
      " total predictions : 16028 \n",
      " Val-Loss : 0.5730596642587023 \n",
      " Val-Accuracy :3.1881707012727722----------------------------------\n",
      "\n",
      "Updating the model\n",
      "Finished Training\n"
     ]
    }
   ],
   "source": [
    "import timeit\n",
    "\n",
    "\n",
    "''' TRAINING THE MODEL '''\n",
    "correct_preds = 0\n",
    "total_preds = 0\n",
    "for epoch in range(1): \n",
    "    running_loss = 0.0\n",
    "    start = timeit.default_timer()\n",
    "    for i, data in enumerate(trainloader, 0):\n",
    "        input , label = data\n",
    "        optimizer.zero_grad()\n",
    "        if training_mode == training_mode_list[0]:\n",
    "            output = Net(input.to(device),input.shape[0])\n",
    "            loss = criterion(output.to(device), label[:,0].to(device).long())\n",
    "            loss.backward()\n",
    "            optimizer.step()\n",
    "            total_preds += input.shape[0]\n",
    "            correct_preds += torch.sum(torch.argmax(output,1) == label[:,0].to(device))\n",
    "\n",
    "            running_loss += loss.item()\n",
    "        elif training_mode == training_mode_list[1]:\n",
    "            cumm_output = torch.zeros(0,len(unique_notes)).to(device)\n",
    "            cumm_label  = np.array([],dtype=int)\n",
    "            for k in range(future_preds):\n",
    "                output = Net(input.to(device),input.shape[0])\n",
    "                cumm_output = torch.cat((cumm_output,output))\n",
    "                cumm_label = np.concatenate((cumm_label,label[:,k]))\n",
    "                next_preds = np.argmax(output.cpu().detach().numpy(),axis=1)\n",
    "                input = input.cpu().detach().numpy()\n",
    "                input = torch.from_numpy(np.array([np.append(j,next_preds[ind]) \n",
    "                                                       for ind,j in enumerate(input)])[:,1:])  \n",
    "            loss = criterion(cumm_output, torch.from_numpy(cumm_label).to(device))\n",
    "            loss.backward()\n",
    "            optimizer.step()\n",
    "\n",
    "            running_loss += loss.item()\n",
    "        \n",
    "        if (i % 300 == 299  ):\n",
    "            print('[%d, %5d] loss: %.3f' %\n",
    "                  (epoch + 1, i + 1, running_loss / 300))\n",
    "            loss_history.append(running_loss/300)\n",
    "            running_loss = 0.0\n",
    "    stop = timeit.default_timer()\n",
    "    print(f\"Training Time for Epoch :{epoch} \\n {stop-start} seconds\\n\")\n",
    "    train_acc =  float(correct_preds)/float(total_preds) *100 \n",
    "    trainreport =\"Training Accuracy : \\n correct predictions  : {} \\n total predictions : {} \\n Training Accuracy : {} \\n ------------------------\\n\".format(correct_preds,total_preds,train_acc)\n",
    "    print(trainreport)     \n",
    "    correct_preds = 0\n",
    "    total_preds = 0\n",
    "    val_loss = 0\n",
    "    start = timeit.default_timer()\n",
    "    for i, data in enumerate(validationloader, 0):\n",
    "        input , label = data\n",
    "        if training_mode == training_mode_list[0]:\n",
    "            output = Net(input.to(device),input.shape[0])\n",
    "            loss = criterion(output.to(device), label[:,0].to(device).long())\n",
    "            total_preds += input.shape[0]\n",
    "            correct_preds += torch.sum(torch.argmax(output,1) == label[:,0].to(device))\n",
    "            val_loss += loss.item()\n",
    "            \n",
    "        elif training_mode == training_mode_list[1]:\n",
    "            cumm_output = torch.zeros(0,len(unique_notes)).to(device)\n",
    "            cumm_label  = np.array([],dtype=int)\n",
    "            for k in range(future_preds):\n",
    "                output = Net(input.to(device),input.shape[0])\n",
    "                cumm_output = torch.cat((cumm_output,output))\n",
    "                cumm_label = np.concatenate((cumm_label,label[:,k]))\n",
    "                next_preds = np.argmax(output.cpu().detach().numpy(),axis=1)\n",
    "                input = input.cpu().detach().numpy()\n",
    "                input = torch.from_numpy(np.array([np.append(j,next_preds[ind]) \n",
    "                                                       for ind,j in enumerate(input)])[:,1:])  \n",
    "            loss = criterion(cumm_output, torch.from_numpy(cumm_label).to(device))\n",
    "\n",
    "            val_loss += loss.item()\n",
    "    stop = timeit.default_timer()\n",
    "    print(f\"Validation Time for Epoch :{epoch} \\n {stop-start} seconds\\n\")\n",
    "    val_acc = float(correct_preds)/float(total_preds) *100\n",
    "    val_loss = float(val_loss)/float(total_preds)\n",
    "    valreport =\"Validation Accuracy : \\n correct predictions  : {} \\n total predictions : {} \\n Val-Loss : {} \\n Val-Accuracy :{}----------------------------------\\n\".format(correct_preds,total_preds,val_loss,val_acc )\n",
    "    print(valreport)\n",
    "    \n",
    "    if(val_acc > best_val_acc):\n",
    "        print('Updating the model')\n",
    "        best_val_acc = val_acc\n",
    "        checkpoint = {\n",
    "            \"epoch\": epoch,\n",
    "            \"model_state_dict\": Net.state_dict(),\n",
    "            \"optimizer_state_dict\": optimizer.state_dict(),\n",
    "            \"train_acc\": train_acc,\n",
    "            \"valid_acc\": val_acc\n",
    "        }\n",
    "        torch.save(checkpoint, os.path.join(expDir, 'checkpoint.tar'))\n",
    "        torch.save(Net, os.path.join(expDir, 'model.pth'))\n",
    "    \n",
    "    correct_preds = 0\n",
    "    total_preds = 0\n",
    "\n",
    "\n",
    "print('Finished Training')"
   ]
  },
  {
   "cell_type": "code",
   "execution_count": 12,
   "metadata": {
    "id": "InzgOHy4SbUx"
   },
   "outputs": [
    {
     "data": {
      "text/plain": [
       "[<matplotlib.lines.Line2D at 0x23d97c278e0>]"
      ]
     },
     "execution_count": 12,
     "metadata": {},
     "output_type": "execute_result"
    },
    {
     "data": {
      "image/png": "[encoded data removed]",
      "text/plain": [
       "<Figure size 432x288 with 1 Axes>"
      ]
     },
     "metadata": {
      "image/png": {
       "height": 248,
       "width": 378
      },
      "needs_background": "light"
     },
     "output_type": "display_data"
    }
   ],
   "source": [
    "plt.figure()\n",
    "plt.plot(loss_history)\n",
    "# plt.savefig(lossDir + '/loss_history.png')"
   ]
  },
  {
   "cell_type": "code",
   "execution_count": 13,
   "metadata": {},
   "outputs": [],
   "source": [
    "#path='/content/drive/MyDrive/schubert/sine_model.pth'\n",
    " #path='/content/drive/MyDrive/schubert/lstmmodel1.pth'\n",
    "path='schubert/sine_wavenet1.pth'\n",
    "torch.save(Net.state_dict(), path)"
   ]
  },
  {
   "cell_type": "markdown",
   "metadata": {
    "id": "xJmdQ95isFGQ"
   },
   "source": [
    "**Testing the Model by training sinosoids**\n",
    "\n",
    "\n",
    "\n",
    "*   Uncomment the code chunk below to test o sinosoids \n",
    "*   dont run above code if training for sinosoids. Variable names are mostly same\n",
    "\n"
   ]
  },
  {
   "cell_type": "code",
   "execution_count": null,
   "metadata": {},
   "outputs": [],
   "source": []
  }
 ],
 "metadata": {
  "colab": {
   "collapsed_sections": [],
   "name": "Music_Gen_AI.ipynb",
   "provenance": []
  },
  "interpreter": {
   "hash": "31f2aee4e71d21fbe5cf8b01ff0e069b9275f58929596ceb00d14d90e3e16cd6"
  },
  "kernelspec": {
   "display_name": "Python 3 (ipykernel)",
   "language": "python",
   "name": "python3"
  },
  "language_info": {
   "codemirror_mode": {
    "name": "ipython",
    "version": 3
   },
   "file_extension": ".py",
   "mimetype": "text/x-python",
   "name": "python",
   "nbconvert_exporter": "python",
   "pygments_lexer": "ipython3",
   "version": "3.9.12"
  }
 },
 "nbformat": 4,
 "nbformat_minor": 4
}
